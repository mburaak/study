{
  "nbformat": 4,
  "nbformat_minor": 0,
  "metadata": {
    "colab": {
      "provenance": [],
      "authorship_tag": "ABX9TyPleqIs0Xl/6/OPgu0/nSun",
      "include_colab_link": true
    },
    "kernelspec": {
      "name": "python3",
      "display_name": "Python 3"
    },
    "language_info": {
      "name": "python"
    }
  },
  "cells": [
    {
      "cell_type": "markdown",
      "metadata": {
        "id": "view-in-github",
        "colab_type": "text"
      },
      "source": [
        "<a href=\"https://colab.research.google.com/github/mburaak/study/blob/main/study.ipynb\" target=\"_parent\"><img src=\"https://colab.research.google.com/assets/colab-badge.svg\" alt=\"Open In Colab\"/></a>"
      ]
    },
    {
      "cell_type": "code",
      "execution_count": null,
      "metadata": {
        "colab": {
          "base_uri": "https://localhost:8080/"
        },
        "id": "3rG-InSWgBuQ",
        "outputId": "c715175c-b4c4-481d-be98-eb579fb366d4"
      },
      "outputs": [
        {
          "output_type": "execute_result",
          "data": {
            "text/plain": [
              "int"
            ]
          },
          "metadata": {},
          "execution_count": 1
        }
      ],
      "source": [
        "x=5\n",
        "type(x)"
      ]
    },
    {
      "cell_type": "code",
      "source": [
        "x=9.8\n",
        "type(x)"
      ],
      "metadata": {
        "colab": {
          "base_uri": "https://localhost:8080/"
        },
        "id": "nu9ZPGNexqmD",
        "outputId": "bb45281b-6fc3-46d9-8bf8-8c50613084a1"
      },
      "execution_count": null,
      "outputs": [
        {
          "output_type": "execute_result",
          "data": {
            "text/plain": [
              "float"
            ]
          },
          "metadata": {},
          "execution_count": 2
        }
      ]
    },
    {
      "cell_type": "code",
      "source": [
        "x=\"Selam\"\n",
        "type(x)"
      ],
      "metadata": {
        "colab": {
          "base_uri": "https://localhost:8080/"
        },
        "id": "BMUWGPigxq0X",
        "outputId": "19cd84a7-2d45-4c39-b51b-2fbdbb8b0210"
      },
      "execution_count": null,
      "outputs": [
        {
          "output_type": "execute_result",
          "data": {
            "text/plain": [
              "str"
            ]
          },
          "metadata": {},
          "execution_count": 3
        }
      ]
    },
    {
      "cell_type": "code",
      "source": [
        "x=True\n",
        "type(x)"
      ],
      "metadata": {
        "colab": {
          "base_uri": "https://localhost:8080/"
        },
        "id": "H1xsRDIkxq3R",
        "outputId": "09bee2a1-b28b-41b9-99cc-24c256e2fc42"
      },
      "execution_count": null,
      "outputs": [
        {
          "output_type": "execute_result",
          "data": {
            "text/plain": [
              "bool"
            ]
          },
          "metadata": {},
          "execution_count": 4
        }
      ]
    },
    {
      "cell_type": "code",
      "source": [
        "x=5\n",
        "y=9\n",
        "print(x+y)\n",
        "print(x-y)\n",
        "print(x*y)\n",
        "print(x%y)\n",
        "print(x**y)"
      ],
      "metadata": {
        "colab": {
          "base_uri": "https://localhost:8080/"
        },
        "id": "5MinTeA0xq56",
        "outputId": "f9e1bfb2-fce0-4ed0-85b0-0d79b83c8a0d"
      },
      "execution_count": null,
      "outputs": [
        {
          "output_type": "stream",
          "name": "stdout",
          "text": [
            "14\n",
            "-4\n",
            "45\n",
            "5\n",
            "1953125\n"
          ]
        }
      ]
    },
    {
      "cell_type": "code",
      "source": [
        "name=\"Muhsin Burak\"\n",
        "print(name.title())"
      ],
      "metadata": {
        "colab": {
          "base_uri": "https://localhost:8080/"
        },
        "id": "j89NqH0rxq8f",
        "outputId": "b9afef0a-7d58-44b7-ad44-88cccbc207a7"
      },
      "execution_count": null,
      "outputs": [
        {
          "output_type": "stream",
          "name": "stdout",
          "text": [
            "Muhsin Burak\n"
          ]
        }
      ]
    },
    {
      "cell_type": "code",
      "source": [
        "name=\"Muhsin Burak\"\n",
        "print(name.upper())"
      ],
      "metadata": {
        "colab": {
          "base_uri": "https://localhost:8080/"
        },
        "id": "qwgsyS5gxq_Q",
        "outputId": "0b1121e9-3f9b-4d04-8a72-57fd2df82b12"
      },
      "execution_count": null,
      "outputs": [
        {
          "output_type": "stream",
          "name": "stdout",
          "text": [
            "MUHSIN BURAK\n"
          ]
        }
      ]
    },
    {
      "cell_type": "code",
      "source": [
        "name=\"Muhsin Burak\"\n",
        "print(name.lower())"
      ],
      "metadata": {
        "colab": {
          "base_uri": "https://localhost:8080/"
        },
        "id": "E-OFqP6EyiMb",
        "outputId": "adbe91bd-212e-4cbe-b6a2-dea93d719569"
      },
      "execution_count": null,
      "outputs": [
        {
          "output_type": "stream",
          "name": "stdout",
          "text": [
            "muhsin burak\n"
          ]
        }
      ]
    },
    {
      "cell_type": "code",
      "source": [
        "x=5\n",
        "y=3\n",
        "x>=y"
      ],
      "metadata": {
        "colab": {
          "base_uri": "https://localhost:8080/"
        },
        "id": "zOSicnRhyj6E",
        "outputId": "1fbc35a3-da61-4390-ca22-c4a1007a5b88"
      },
      "execution_count": null,
      "outputs": [
        {
          "output_type": "execute_result",
          "data": {
            "text/plain": [
              "True"
            ]
          },
          "metadata": {},
          "execution_count": 19
        }
      ]
    },
    {
      "cell_type": "code",
      "source": [
        "x!=y"
      ],
      "metadata": {
        "colab": {
          "base_uri": "https://localhost:8080/"
        },
        "id": "Hnl7TLQNy8JS",
        "outputId": "b7222f25-9eae-49f4-99a8-b916e3d7f41d"
      },
      "execution_count": null,
      "outputs": [
        {
          "output_type": "execute_result",
          "data": {
            "text/plain": [
              "True"
            ]
          },
          "metadata": {},
          "execution_count": 17
        }
      ]
    },
    {
      "cell_type": "code",
      "source": [
        "x<=y"
      ],
      "metadata": {
        "colab": {
          "base_uri": "https://localhost:8080/"
        },
        "id": "1PjBTJppy8L1",
        "outputId": "be215044-eb99-49ad-b827-504e76f7a5d0"
      },
      "execution_count": null,
      "outputs": [
        {
          "output_type": "execute_result",
          "data": {
            "text/plain": [
              "False"
            ]
          },
          "metadata": {},
          "execution_count": 18
        }
      ]
    },
    {
      "cell_type": "code",
      "source": [
        "x==y"
      ],
      "metadata": {
        "colab": {
          "base_uri": "https://localhost:8080/"
        },
        "id": "qjhrFzY2y02o",
        "outputId": "e27d7666-7024-4640-df06-98c12edc3212"
      },
      "execution_count": null,
      "outputs": [
        {
          "output_type": "execute_result",
          "data": {
            "text/plain": [
              "False"
            ]
          },
          "metadata": {},
          "execution_count": 14
        }
      ]
    },
    {
      "cell_type": "code",
      "source": [
        "x>y"
      ],
      "metadata": {
        "colab": {
          "base_uri": "https://localhost:8080/"
        },
        "id": "jgPricnby3o7",
        "outputId": "a0fc5f37-6430-483a-fe68-e0656e2a89ef"
      },
      "execution_count": null,
      "outputs": [
        {
          "output_type": "execute_result",
          "data": {
            "text/plain": [
              "True"
            ]
          },
          "metadata": {},
          "execution_count": 16
        }
      ]
    },
    {
      "cell_type": "code",
      "source": [
        "x=9.8 \n",
        "y=5"
      ],
      "metadata": {
        "id": "8ObVrULFzBoi"
      },
      "execution_count": null,
      "outputs": []
    },
    {
      "cell_type": "code",
      "source": [
        "x>5 and y>6"
      ],
      "metadata": {
        "colab": {
          "base_uri": "https://localhost:8080/"
        },
        "id": "3tmMQbNizBrx",
        "outputId": "010af6c7-f25d-4f8b-83f6-d963352b6b86"
      },
      "execution_count": null,
      "outputs": [
        {
          "output_type": "execute_result",
          "data": {
            "text/plain": [
              "False"
            ]
          },
          "metadata": {},
          "execution_count": 30
        }
      ]
    },
    {
      "cell_type": "code",
      "source": [
        "x>9 and y>3 "
      ],
      "metadata": {
        "colab": {
          "base_uri": "https://localhost:8080/"
        },
        "id": "xZZ-caKGzBul",
        "outputId": "50f444bc-deef-465b-a444-b0ea168af018"
      },
      "execution_count": null,
      "outputs": [
        {
          "output_type": "execute_result",
          "data": {
            "text/plain": [
              "True"
            ]
          },
          "metadata": {},
          "execution_count": 31
        }
      ]
    },
    {
      "cell_type": "code",
      "source": [
        "x>9 or y<3"
      ],
      "metadata": {
        "colab": {
          "base_uri": "https://localhost:8080/"
        },
        "id": "uPU7zQyVzBxE",
        "outputId": "9fe474c9-2b04-4220-91dc-0025a44c4275"
      },
      "execution_count": null,
      "outputs": [
        {
          "output_type": "execute_result",
          "data": {
            "text/plain": [
              "True"
            ]
          },
          "metadata": {},
          "execution_count": 32
        }
      ]
    },
    {
      "cell_type": "code",
      "source": [
        "x<7 or y>9"
      ],
      "metadata": {
        "colab": {
          "base_uri": "https://localhost:8080/"
        },
        "id": "tYzFYYxyzBzd",
        "outputId": "f111126e-dc86-4d19-aca0-e570effb1a0b"
      },
      "execution_count": null,
      "outputs": [
        {
          "output_type": "execute_result",
          "data": {
            "text/plain": [
              "False"
            ]
          },
          "metadata": {},
          "execution_count": 33
        }
      ]
    },
    {
      "cell_type": "code",
      "source": [
        "\"---------lesson 2 ---------------\""
      ],
      "metadata": {
        "colab": {
          "base_uri": "https://localhost:8080/",
          "height": 35
        },
        "id": "sKRrG0uEzpjI",
        "outputId": "42e21346-17e7-4805-8daf-25bdaefa35bb"
      },
      "execution_count": null,
      "outputs": [
        {
          "output_type": "execute_result",
          "data": {
            "text/plain": [
              "'---------lesson 2 ---------------'"
            ],
            "application/vnd.google.colaboratory.intrinsic+json": {
              "type": "string"
            }
          },
          "metadata": {},
          "execution_count": 36
        }
      ]
    },
    {
      "cell_type": "code",
      "source": [
        "first_name=\"Muhsin Burak\"\n",
        "last_name=\"DEMİRTAŞ\"\n",
        "\n",
        "full_name=f\"{first_name} {last_name}\"\n",
        "print(full_name)"
      ],
      "metadata": {
        "colab": {
          "base_uri": "https://localhost:8080/"
        },
        "id": "zwLLx7P72cFl",
        "outputId": "48699883-ae04-4c91-9f45-f5a5590e9157"
      },
      "execution_count": null,
      "outputs": [
        {
          "output_type": "stream",
          "name": "stdout",
          "text": [
            "Muhsin Burak DEMİRTAŞ\n"
          ]
        }
      ]
    },
    {
      "cell_type": "code",
      "source": [
        "print(f\"Hello, {full_name.title()}!\")"
      ],
      "metadata": {
        "colab": {
          "base_uri": "https://localhost:8080/"
        },
        "id": "ApVCECxf38Vg",
        "outputId": "9f0094c8-f738-4364-f154-c6c40804a86f"
      },
      "execution_count": null,
      "outputs": [
        {
          "output_type": "stream",
          "name": "stdout",
          "text": [
            "Hello, Muhsin Burak Demi̇rtaş!\n"
          ]
        }
      ]
    },
    {
      "cell_type": "code",
      "source": [
        "print(\"Languages: \\nPython\\nC#\\nJava\")"
      ],
      "metadata": {
        "colab": {
          "base_uri": "https://localhost:8080/"
        },
        "id": "lAq8Lppv4aCs",
        "outputId": "df800321-997b-4d3a-8af2-08f9d32239da"
      },
      "execution_count": null,
      "outputs": [
        {
          "output_type": "stream",
          "name": "stdout",
          "text": [
            "Languages: \n",
            "Python\n",
            "C#\n",
            "Java\n"
          ]
        }
      ]
    },
    {
      "cell_type": "code",
      "source": [
        "language=\" python \"\n",
        "\n",
        "print(language)"
      ],
      "metadata": {
        "colab": {
          "base_uri": "https://localhost:8080/"
        },
        "id": "T8YrkqF74tUs",
        "outputId": "4ff5d238-f72a-42c6-d6d6-ed29f3857e4c"
      },
      "execution_count": null,
      "outputs": [
        {
          "output_type": "stream",
          "name": "stdout",
          "text": [
            " python \n"
          ]
        }
      ]
    },
    {
      "cell_type": "code",
      "source": [
        "language.rstrip()"
      ],
      "metadata": {
        "colab": {
          "base_uri": "https://localhost:8080/",
          "height": 35
        },
        "id": "mSU2SRPD40yj",
        "outputId": "8a49db38-2b76-4c75-a147-7951e421dbb9"
      },
      "execution_count": null,
      "outputs": [
        {
          "output_type": "execute_result",
          "data": {
            "text/plain": [
              "' python'"
            ],
            "application/vnd.google.colaboratory.intrinsic+json": {
              "type": "string"
            }
          },
          "metadata": {},
          "execution_count": 42
        }
      ]
    },
    {
      "cell_type": "code",
      "source": [
        "language.lstrip()"
      ],
      "metadata": {
        "colab": {
          "base_uri": "https://localhost:8080/",
          "height": 35
        },
        "id": "eE5RXM-344jt",
        "outputId": "602856e1-8d7d-424b-df82-3dd581e15c33"
      },
      "execution_count": null,
      "outputs": [
        {
          "output_type": "execute_result",
          "data": {
            "text/plain": [
              "'python '"
            ],
            "application/vnd.google.colaboratory.intrinsic+json": {
              "type": "string"
            }
          },
          "metadata": {},
          "execution_count": 43
        }
      ]
    },
    {
      "cell_type": "code",
      "source": [
        "universe_age=14_000_000_000\n",
        "print(universe_age)"
      ],
      "metadata": {
        "colab": {
          "base_uri": "https://localhost:8080/"
        },
        "id": "fLDF14Wv47sa",
        "outputId": "2552b0c8-47fb-46f6-945b-e173299ab650"
      },
      "execution_count": null,
      "outputs": [
        {
          "output_type": "stream",
          "name": "stdout",
          "text": [
            "14000000000\n"
          ]
        }
      ]
    },
    {
      "cell_type": "code",
      "source": [
        "#comments line"
      ],
      "metadata": {
        "id": "PfhWv71I61u7"
      },
      "execution_count": null,
      "outputs": []
    },
    {
      "cell_type": "code",
      "source": [
        "telephone=[\"xiaomi\", \"iphone\", \"samsung\", \"huawei\"]\n",
        "print(telephone)"
      ],
      "metadata": {
        "colab": {
          "base_uri": "https://localhost:8080/"
        },
        "id": "rsULUVVV7AFG",
        "outputId": "7c614e60-1768-4409-c419-ec0aef0be594"
      },
      "execution_count": null,
      "outputs": [
        {
          "output_type": "stream",
          "name": "stdout",
          "text": [
            "['xiaomi', 'iphone', 'samsung', 'huawei']\n"
          ]
        }
      ]
    },
    {
      "cell_type": "code",
      "source": [
        "print(telephone[0])"
      ],
      "metadata": {
        "colab": {
          "base_uri": "https://localhost:8080/"
        },
        "id": "otkdDhM87qJA",
        "outputId": "2d8ef21e-edbe-4551-dfeb-80edd7d48339"
      },
      "execution_count": null,
      "outputs": [
        {
          "output_type": "stream",
          "name": "stdout",
          "text": [
            "xiaomi\n"
          ]
        }
      ]
    },
    {
      "cell_type": "code",
      "source": [
        "print(telephone[0].title())"
      ],
      "metadata": {
        "colab": {
          "base_uri": "https://localhost:8080/"
        },
        "id": "-ZRTChdH7uve",
        "outputId": "c8103fe8-ec4f-4e31-88c5-d7913ba3184e"
      },
      "execution_count": null,
      "outputs": [
        {
          "output_type": "stream",
          "name": "stdout",
          "text": [
            "Xiaomi\n"
          ]
        }
      ]
    },
    {
      "cell_type": "code",
      "source": [
        "print(telephone[3])"
      ],
      "metadata": {
        "colab": {
          "base_uri": "https://localhost:8080/"
        },
        "id": "P-uYJMXQ7xgP",
        "outputId": "864bb6dc-fd59-4322-8926-af21048c31b2"
      },
      "execution_count": null,
      "outputs": [
        {
          "output_type": "stream",
          "name": "stdout",
          "text": [
            "huawei\n"
          ]
        }
      ]
    },
    {
      "cell_type": "code",
      "source": [
        "print(telephone[-1])"
      ],
      "metadata": {
        "colab": {
          "base_uri": "https://localhost:8080/"
        },
        "id": "OatcIkRP74Ho",
        "outputId": "da1b4e2e-4a06-4bac-e1a3-617d49333c2b"
      },
      "execution_count": null,
      "outputs": [
        {
          "output_type": "stream",
          "name": "stdout",
          "text": [
            "huawei\n"
          ]
        }
      ]
    },
    {
      "cell_type": "code",
      "source": [
        "x=f\"My telephone is {telephone[0].upper()}\"\n",
        "print(x)"
      ],
      "metadata": {
        "colab": {
          "base_uri": "https://localhost:8080/"
        },
        "id": "Plxilh5f79NF",
        "outputId": "f4bd3cee-f1d9-4d1d-8a0d-acd9e1407104"
      },
      "execution_count": null,
      "outputs": [
        {
          "output_type": "stream",
          "name": "stdout",
          "text": [
            "My telephone is XIAOMI\n"
          ]
        }
      ]
    },
    {
      "cell_type": "code",
      "source": [
        "type(telephone)"
      ],
      "metadata": {
        "colab": {
          "base_uri": "https://localhost:8080/"
        },
        "id": "UYsaz0e38Sbl",
        "outputId": "e9075672-ebeb-4d69-f3e4-0fd2ea557ad1"
      },
      "execution_count": null,
      "outputs": [
        {
          "output_type": "execute_result",
          "data": {
            "text/plain": [
              "list"
            ]
          },
          "metadata": {},
          "execution_count": 60
        }
      ]
    },
    {
      "cell_type": "code",
      "source": [
        "telephone"
      ],
      "metadata": {
        "colab": {
          "base_uri": "https://localhost:8080/"
        },
        "id": "YmdOzrhT8k42",
        "outputId": "22c05669-4e9a-44ff-fbff-77b606629e9e"
      },
      "execution_count": null,
      "outputs": [
        {
          "output_type": "execute_result",
          "data": {
            "text/plain": [
              "['xiaomi', 'iphone', 'samsung', 'huawei']"
            ]
          },
          "metadata": {},
          "execution_count": 61
        }
      ]
    },
    {
      "cell_type": "code",
      "source": [
        "telephone[3]"
      ],
      "metadata": {
        "colab": {
          "base_uri": "https://localhost:8080/",
          "height": 35
        },
        "id": "NALGhkG88mR5",
        "outputId": "c204e41c-76aa-432a-c49f-d1e08af41e01"
      },
      "execution_count": null,
      "outputs": [
        {
          "output_type": "execute_result",
          "data": {
            "text/plain": [
              "'huawei'"
            ],
            "application/vnd.google.colaboratory.intrinsic+json": {
              "type": "string"
            }
          },
          "metadata": {},
          "execution_count": 63
        }
      ]
    },
    {
      "cell_type": "code",
      "source": [
        "telephone.append(\"nokia\")"
      ],
      "metadata": {
        "id": "SwfeslNM88Wc"
      },
      "execution_count": null,
      "outputs": []
    },
    {
      "cell_type": "code",
      "source": [
        "telephone"
      ],
      "metadata": {
        "colab": {
          "base_uri": "https://localhost:8080/"
        },
        "id": "UC8L-iJQ9F-p",
        "outputId": "47717149-1ad2-44f7-b8bd-09adce413f6a"
      },
      "execution_count": null,
      "outputs": [
        {
          "output_type": "execute_result",
          "data": {
            "text/plain": [
              "['xiaomi', 'iphone', 'samsung', 'huawei', 'nokia']"
            ]
          },
          "metadata": {},
          "execution_count": 66
        }
      ]
    },
    {
      "cell_type": "code",
      "source": [
        "number=[]"
      ],
      "metadata": {
        "id": "5LAJgCjF9J8V"
      },
      "execution_count": null,
      "outputs": []
    },
    {
      "cell_type": "code",
      "source": [
        "number.append(\"1\")\n",
        "number.append(\"2\")\n",
        "number.append(\"3\")"
      ],
      "metadata": {
        "id": "74oMb05o9aNp"
      },
      "execution_count": null,
      "outputs": []
    },
    {
      "cell_type": "code",
      "source": [
        "number"
      ],
      "metadata": {
        "colab": {
          "base_uri": "https://localhost:8080/"
        },
        "id": "lol6XbKZ9hrZ",
        "outputId": "e84ba231-e826-4087-a4c9-e85d3fcfc6f6"
      },
      "execution_count": null,
      "outputs": [
        {
          "output_type": "execute_result",
          "data": {
            "text/plain": [
              "['1', '2', '3']"
            ]
          },
          "metadata": {},
          "execution_count": 69
        }
      ]
    },
    {
      "cell_type": "code",
      "source": [
        "number.insert(4, \"4\")"
      ],
      "metadata": {
        "id": "c1MVXE4n9irI"
      },
      "execution_count": null,
      "outputs": []
    },
    {
      "cell_type": "code",
      "source": [
        "number"
      ],
      "metadata": {
        "colab": {
          "base_uri": "https://localhost:8080/"
        },
        "id": "E0etptlR9nIe",
        "outputId": "42c1ccbb-914d-46d7-a157-cc96e12c0716"
      },
      "execution_count": null,
      "outputs": [
        {
          "output_type": "execute_result",
          "data": {
            "text/plain": [
              "['1', '2', '3', '4']"
            ]
          },
          "metadata": {},
          "execution_count": 76
        }
      ]
    },
    {
      "cell_type": "code",
      "source": [
        "del number[2]"
      ],
      "metadata": {
        "id": "H3C8upWo99Id"
      },
      "execution_count": null,
      "outputs": []
    },
    {
      "cell_type": "code",
      "source": [
        "number"
      ],
      "metadata": {
        "colab": {
          "base_uri": "https://localhost:8080/"
        },
        "id": "XNpkB2sg_HdJ",
        "outputId": "8053c8e2-9ca6-4dce-bf8a-cc3c334133da"
      },
      "execution_count": null,
      "outputs": [
        {
          "output_type": "execute_result",
          "data": {
            "text/plain": [
              "['1', '2', '4']"
            ]
          },
          "metadata": {},
          "execution_count": 78
        }
      ]
    },
    {
      "cell_type": "code",
      "source": [
        "number.append(\"6\")"
      ],
      "metadata": {
        "id": "ItELMADu_Ihi"
      },
      "execution_count": null,
      "outputs": []
    },
    {
      "cell_type": "code",
      "source": [
        "number"
      ],
      "metadata": {
        "colab": {
          "base_uri": "https://localhost:8080/"
        },
        "id": "bsKq2iye_Olu",
        "outputId": "dd94e8e2-13b5-4389-a11c-d7cf55c6bb40"
      },
      "execution_count": null,
      "outputs": [
        {
          "output_type": "execute_result",
          "data": {
            "text/plain": [
              "['1', '2', '4', '6']"
            ]
          },
          "metadata": {},
          "execution_count": 80
        }
      ]
    },
    {
      "cell_type": "code",
      "source": [
        "number.pop()"
      ],
      "metadata": {
        "colab": {
          "base_uri": "https://localhost:8080/",
          "height": 35
        },
        "id": "jYDySB3-_P-J",
        "outputId": "3b349e54-57e6-4384-da66-3ef7ba36dfa9"
      },
      "execution_count": null,
      "outputs": [
        {
          "output_type": "execute_result",
          "data": {
            "text/plain": [
              "'6'"
            ],
            "application/vnd.google.colaboratory.intrinsic+json": {
              "type": "string"
            }
          },
          "metadata": {},
          "execution_count": 81
        }
      ]
    },
    {
      "cell_type": "code",
      "source": [
        "number"
      ],
      "metadata": {
        "colab": {
          "base_uri": "https://localhost:8080/"
        },
        "id": "SXgnf-aN_U8n",
        "outputId": "a5ce9886-ad20-45a6-9351-963706ef5a92"
      },
      "execution_count": null,
      "outputs": [
        {
          "output_type": "execute_result",
          "data": {
            "text/plain": [
              "['1', '2', '4']"
            ]
          },
          "metadata": {},
          "execution_count": 82
        }
      ]
    },
    {
      "cell_type": "code",
      "source": [
        "telephone.count(\"xiaomi\")"
      ],
      "metadata": {
        "colab": {
          "base_uri": "https://localhost:8080/"
        },
        "id": "uMOZULxn_Xc9",
        "outputId": "0eb06a97-332a-4d77-d475-65cf7babd9b6"
      },
      "execution_count": null,
      "outputs": [
        {
          "output_type": "execute_result",
          "data": {
            "text/plain": [
              "1"
            ]
          },
          "metadata": {},
          "execution_count": 83
        }
      ]
    },
    {
      "cell_type": "code",
      "source": [
        "print(len(telephone))"
      ],
      "metadata": {
        "colab": {
          "base_uri": "https://localhost:8080/"
        },
        "id": "ndl-JS3P_gfI",
        "outputId": "dd916698-55b0-4955-c505-7ae49d156d77"
      },
      "execution_count": null,
      "outputs": [
        {
          "output_type": "stream",
          "name": "stdout",
          "text": [
            "5\n"
          ]
        }
      ]
    },
    {
      "cell_type": "code",
      "source": [
        "telephone"
      ],
      "metadata": {
        "colab": {
          "base_uri": "https://localhost:8080/"
        },
        "id": "y7agxgPq_qFo",
        "outputId": "b922fe8e-a5d5-4ccd-b427-9cea556a43da"
      },
      "execution_count": null,
      "outputs": [
        {
          "output_type": "execute_result",
          "data": {
            "text/plain": [
              "['xiaomi', 'iphone', 'samsung', 'huawei', 'nokia']"
            ]
          },
          "metadata": {},
          "execution_count": 90
        }
      ]
    },
    {
      "cell_type": "code",
      "source": [
        "telephone.sort()"
      ],
      "metadata": {
        "id": "CnuaVjaoAD1x"
      },
      "execution_count": null,
      "outputs": []
    },
    {
      "cell_type": "code",
      "source": [
        "telephone"
      ],
      "metadata": {
        "colab": {
          "base_uri": "https://localhost:8080/"
        },
        "id": "VJ2yGS4IAFgO",
        "outputId": "ec305eb8-0bb9-4654-9d22-137a3b8f97b8"
      },
      "execution_count": null,
      "outputs": [
        {
          "output_type": "execute_result",
          "data": {
            "text/plain": [
              "['huawei', 'iphone', 'nokia', 'samsung', 'xiaomi']"
            ]
          },
          "metadata": {},
          "execution_count": 92
        }
      ]
    },
    {
      "cell_type": "code",
      "source": [
        "telephone.sort(reverse=True)"
      ],
      "metadata": {
        "id": "5eXlaATjAHbW"
      },
      "execution_count": null,
      "outputs": []
    },
    {
      "cell_type": "code",
      "source": [
        "telephone"
      ],
      "metadata": {
        "colab": {
          "base_uri": "https://localhost:8080/"
        },
        "id": "VR-xe5EmAQzZ",
        "outputId": "91af69a3-d02a-46dc-f7cb-a0298a7f9fb3"
      },
      "execution_count": null,
      "outputs": [
        {
          "output_type": "execute_result",
          "data": {
            "text/plain": [
              "['xiaomi', 'samsung', 'nokia', 'iphone', 'huawei']"
            ]
          },
          "metadata": {},
          "execution_count": 94
        }
      ]
    },
    {
      "cell_type": "code",
      "source": [
        "print(\"Here is the orginal list:\")\n",
        "print(telephone)\n",
        "print(\"\\nHere is the sorted list:\")\n",
        "print(telephone.sort())\n",
        "print(\"\\nHere is the orginal list:\")\n",
        "print(telephone.sort(reverse=True))"
      ],
      "metadata": {
        "colab": {
          "base_uri": "https://localhost:8080/"
        },
        "id": "YCJAevmqATDA",
        "outputId": "5b6835c6-c8a4-4c67-fb96-498730386304"
      },
      "execution_count": null,
      "outputs": [
        {
          "output_type": "stream",
          "name": "stdout",
          "text": [
            "Here is th orginal list:\n",
            "['xiaomi', 'samsung', 'nokia', 'iphone', 'huawei']\n",
            "\n",
            "Here is the sorted list:\n",
            "None\n",
            "\n",
            "Here is the orginal list:\n",
            "None\n"
          ]
        }
      ]
    },
    {
      "cell_type": "code",
      "source": [
        "len(telephone)"
      ],
      "metadata": {
        "colab": {
          "base_uri": "https://localhost:8080/"
        },
        "id": "ujCsB8eUA9EQ",
        "outputId": "d4924c09-da50-47a9-d8db-300b89bbf9a8"
      },
      "execution_count": null,
      "outputs": [
        {
          "output_type": "execute_result",
          "data": {
            "text/plain": [
              "5"
            ]
          },
          "metadata": {},
          "execution_count": 101
        }
      ]
    },
    {
      "cell_type": "code",
      "source": [
        "telephone.remove(\"huawei\")"
      ],
      "metadata": {
        "id": "VbrpaibFBa_M"
      },
      "execution_count": null,
      "outputs": []
    },
    {
      "cell_type": "code",
      "source": [
        "telephone"
      ],
      "metadata": {
        "colab": {
          "base_uri": "https://localhost:8080/"
        },
        "id": "BVryYyFDBkXn",
        "outputId": "e7478534-63ec-45da-87b1-f0e033173d24"
      },
      "execution_count": null,
      "outputs": [
        {
          "output_type": "execute_result",
          "data": {
            "text/plain": [
              "['xiaomi', 'samsung', 'nokia', 'iphone']"
            ]
          },
          "metadata": {},
          "execution_count": 104
        }
      ]
    },
    {
      "cell_type": "code",
      "source": [
        "game=(\"csgo\", \"pubg\", \"cod\", \"rainbowsixsiege\")"
      ],
      "metadata": {
        "id": "KDt9yPdpBnTH"
      },
      "execution_count": null,
      "outputs": []
    },
    {
      "cell_type": "code",
      "source": [
        "print(game)"
      ],
      "metadata": {
        "colab": {
          "base_uri": "https://localhost:8080/"
        },
        "id": "jvrLc6wyB4zB",
        "outputId": "fc9f99ec-66f5-4620-c35d-38188b63f42b"
      },
      "execution_count": null,
      "outputs": [
        {
          "output_type": "stream",
          "name": "stdout",
          "text": [
            "('csgo', 'pubg', 'cod', 'rainbowsixsiege')\n"
          ]
        }
      ]
    },
    {
      "cell_type": "code",
      "source": [
        "type(game)"
      ],
      "metadata": {
        "colab": {
          "base_uri": "https://localhost:8080/"
        },
        "id": "MXKd_9u6B8jL",
        "outputId": "55a649bd-c849-48a3-dcfd-a4a1d1d7ff00"
      },
      "execution_count": null,
      "outputs": [
        {
          "output_type": "execute_result",
          "data": {
            "text/plain": [
              "tuple"
            ]
          },
          "metadata": {},
          "execution_count": 108
        }
      ]
    },
    {
      "cell_type": "code",
      "source": [
        "variable=(\"csgo\")"
      ],
      "metadata": {
        "id": "eJpfBFxLB_FO"
      },
      "execution_count": null,
      "outputs": []
    },
    {
      "cell_type": "code",
      "source": [
        "type(variable)"
      ],
      "metadata": {
        "colab": {
          "base_uri": "https://localhost:8080/"
        },
        "id": "RNXVfdWxCWcZ",
        "outputId": "0fa0f621-f545-4951-c32e-61173ec1a0d2"
      },
      "execution_count": null,
      "outputs": [
        {
          "output_type": "execute_result",
          "data": {
            "text/plain": [
              "str"
            ]
          },
          "metadata": {},
          "execution_count": 110
        }
      ]
    },
    {
      "cell_type": "code",
      "source": [
        "print(game[1])"
      ],
      "metadata": {
        "colab": {
          "base_uri": "https://localhost:8080/"
        },
        "id": "RkTxR3kRCY-z",
        "outputId": "6aaa4467-13a9-4fde-bd79-86d420e2e54f"
      },
      "execution_count": null,
      "outputs": [
        {
          "output_type": "stream",
          "name": "stdout",
          "text": [
            "pubg\n"
          ]
        }
      ]
    },
    {
      "cell_type": "code",
      "source": [
        "print(game[0])"
      ],
      "metadata": {
        "colab": {
          "base_uri": "https://localhost:8080/"
        },
        "id": "24XmDvMDCgf3",
        "outputId": "3805d04d-5da3-4a60-b777-0535e2ee67d4"
      },
      "execution_count": null,
      "outputs": [
        {
          "output_type": "stream",
          "name": "stdout",
          "text": [
            "csgo\n"
          ]
        }
      ]
    },
    {
      "cell_type": "code",
      "source": [
        "carset={\"audi\",\"bwm\",\"mercedes\"}"
      ],
      "metadata": {
        "id": "tIczsx5XCkDZ"
      },
      "execution_count": null,
      "outputs": []
    },
    {
      "cell_type": "code",
      "source": [
        "type(carset)"
      ],
      "metadata": {
        "colab": {
          "base_uri": "https://localhost:8080/"
        },
        "id": "9nt8PkQ4z1Kp",
        "outputId": "239aa4b3-18b9-4cff-8c0d-6fe5aa56f840"
      },
      "execution_count": null,
      "outputs": [
        {
          "output_type": "execute_result",
          "data": {
            "text/plain": [
              "set"
            ]
          },
          "metadata": {},
          "execution_count": 2
        }
      ]
    },
    {
      "cell_type": "code",
      "source": [
        "set={\"audi\",\"bwm\",\"mercedes\",\"audi\"}\n",
        "print(set)"
      ],
      "metadata": {
        "colab": {
          "base_uri": "https://localhost:8080/"
        },
        "id": "gG07wFnHz2wp",
        "outputId": "01a03faf-ae5a-4e02-a21f-e0dd5d6c34b5"
      },
      "execution_count": null,
      "outputs": [
        {
          "output_type": "stream",
          "name": "stdout",
          "text": [
            "{'mercedes', 'audi', 'bwm'}\n"
          ]
        }
      ]
    },
    {
      "cell_type": "code",
      "source": [
        "set1={\"abc\", 123, 3.14,True}"
      ],
      "metadata": {
        "id": "Dub-XbF-0L4o"
      },
      "execution_count": null,
      "outputs": []
    },
    {
      "cell_type": "code",
      "source": [
        "set1.add(\"false\")"
      ],
      "metadata": {
        "id": "GpbBEcOI0Tr4"
      },
      "execution_count": null,
      "outputs": []
    },
    {
      "cell_type": "code",
      "source": [
        "set1"
      ],
      "metadata": {
        "colab": {
          "base_uri": "https://localhost:8080/"
        },
        "id": "XN5SqvHc0YF0",
        "outputId": "697ed745-2bce-4f48-c810-4110b8b31587"
      },
      "execution_count": null,
      "outputs": [
        {
          "output_type": "execute_result",
          "data": {
            "text/plain": [
              "{123, 3.14, True, 'abc', 'false'}"
            ]
          },
          "metadata": {},
          "execution_count": 7
        }
      ]
    },
    {
      "cell_type": "code",
      "source": [
        "set1.remove(True)"
      ],
      "metadata": {
        "id": "b1NfwRVh0Zft"
      },
      "execution_count": null,
      "outputs": []
    },
    {
      "cell_type": "code",
      "source": [
        "set1"
      ],
      "metadata": {
        "colab": {
          "base_uri": "https://localhost:8080/"
        },
        "id": "T9RoMQfE0e5N",
        "outputId": "2cf45856-1ed9-42c5-ba8e-8089fac35921"
      },
      "execution_count": null,
      "outputs": [
        {
          "output_type": "execute_result",
          "data": {
            "text/plain": [
              "{123, 3.14, 'abc', 'false'}"
            ]
          },
          "metadata": {},
          "execution_count": 10
        }
      ]
    },
    {
      "cell_type": "code",
      "source": [
        "set1.discard(\"abc\")"
      ],
      "metadata": {
        "id": "e869TbyK0liK"
      },
      "execution_count": null,
      "outputs": []
    },
    {
      "cell_type": "code",
      "source": [
        "set1"
      ],
      "metadata": {
        "colab": {
          "base_uri": "https://localhost:8080/"
        },
        "id": "kC8-gkN50zPW",
        "outputId": "6f2f9274-c29d-4bf2-cc1a-caf9ef50a07a"
      },
      "execution_count": null,
      "outputs": [
        {
          "output_type": "execute_result",
          "data": {
            "text/plain": [
              "{123, 3.14, 'false'}"
            ]
          },
          "metadata": {},
          "execution_count": 12
        }
      ]
    },
    {
      "cell_type": "code",
      "source": [
        "set1.clear()"
      ],
      "metadata": {
        "id": "_Y_tiU6I00J-"
      },
      "execution_count": null,
      "outputs": []
    },
    {
      "cell_type": "code",
      "source": [
        "set1"
      ],
      "metadata": {
        "colab": {
          "base_uri": "https://localhost:8080/"
        },
        "id": "3JfPXSWa02di",
        "outputId": "3a6ed692-4825-4832-eb13-7a7dcb5d1993"
      },
      "execution_count": null,
      "outputs": [
        {
          "output_type": "execute_result",
          "data": {
            "text/plain": [
              "set()"
            ]
          },
          "metadata": {},
          "execution_count": 14
        }
      ]
    },
    {
      "cell_type": "code",
      "source": [
        "set"
      ],
      "metadata": {
        "colab": {
          "base_uri": "https://localhost:8080/"
        },
        "id": "POlUpQde03k6",
        "outputId": "439da7ee-18c9-4af4-a5eb-1c891d21f713"
      },
      "execution_count": null,
      "outputs": [
        {
          "output_type": "execute_result",
          "data": {
            "text/plain": [
              "{'audi', 'bwm', 'mercedes'}"
            ]
          },
          "metadata": {},
          "execution_count": 15
        }
      ]
    },
    {
      "cell_type": "code",
      "source": [
        "del set"
      ],
      "metadata": {
        "id": "Djlw67nD05f_"
      },
      "execution_count": null,
      "outputs": []
    },
    {
      "cell_type": "code",
      "source": [
        "print(set)"
      ],
      "metadata": {
        "colab": {
          "base_uri": "https://localhost:8080/"
        },
        "id": "KDExhRHC07R5",
        "outputId": "1011a3df-9302-4077-a59d-9e8ca79c18c3"
      },
      "execution_count": null,
      "outputs": [
        {
          "output_type": "stream",
          "name": "stdout",
          "text": [
            "<class 'set'>\n"
          ]
        }
      ]
    },
    {
      "cell_type": "code",
      "source": [
        "dict_car={\"brand\":\"audi\", \"model\":\"A4\", \"year\":2023, \"price\":20000}"
      ],
      "metadata": {
        "id": "FWnc0E0F1COH"
      },
      "execution_count": null,
      "outputs": []
    },
    {
      "cell_type": "code",
      "source": [
        "type(dict_car)"
      ],
      "metadata": {
        "colab": {
          "base_uri": "https://localhost:8080/"
        },
        "id": "wi_eVXe31Q5j",
        "outputId": "62ed45a7-6abf-4bb7-ad34-d687a6cde525"
      },
      "execution_count": null,
      "outputs": [
        {
          "output_type": "execute_result",
          "data": {
            "text/plain": [
              "dict"
            ]
          },
          "metadata": {},
          "execution_count": 19
        }
      ]
    },
    {
      "cell_type": "code",
      "source": [
        "print(dict_car)"
      ],
      "metadata": {
        "colab": {
          "base_uri": "https://localhost:8080/"
        },
        "id": "uJ4snS_T1SWc",
        "outputId": "4aadcf38-a454-45c3-d593-933dd61c567a"
      },
      "execution_count": null,
      "outputs": [
        {
          "output_type": "stream",
          "name": "stdout",
          "text": [
            "{'brand': 'audi', 'model': 'A4', 'year': 2023, 'price': 20000}\n"
          ]
        }
      ]
    },
    {
      "cell_type": "code",
      "source": [
        "print(dict_car[\"price\"])"
      ],
      "metadata": {
        "colab": {
          "base_uri": "https://localhost:8080/"
        },
        "id": "-aNZOh1_1UBf",
        "outputId": "a4863df5-b2fa-481f-f227-d14a7f632ad0"
      },
      "execution_count": null,
      "outputs": [
        {
          "output_type": "stream",
          "name": "stdout",
          "text": [
            "20000\n"
          ]
        }
      ]
    },
    {
      "cell_type": "code",
      "source": [
        "print(dict_car[\"year\"])"
      ],
      "metadata": {
        "colab": {
          "base_uri": "https://localhost:8080/"
        },
        "id": "q64LS3xs1XEY",
        "outputId": "ad2ce7af-0214-4c19-e61e-880fa8adb433"
      },
      "execution_count": null,
      "outputs": [
        {
          "output_type": "stream",
          "name": "stdout",
          "text": [
            "2023\n"
          ]
        }
      ]
    },
    {
      "cell_type": "code",
      "source": [
        "print(dict_car[\"brand\"])\n"
      ],
      "metadata": {
        "colab": {
          "base_uri": "https://localhost:8080/"
        },
        "id": "PAWlDcvh1ZCr",
        "outputId": "89188312-6c65-4a75-c21d-f56752c06de1"
      },
      "execution_count": null,
      "outputs": [
        {
          "output_type": "stream",
          "name": "stdout",
          "text": [
            "audi\n"
          ]
        }
      ]
    },
    {
      "cell_type": "code",
      "source": [
        "car2={\n",
        "    \"brand\":\"volkswagen\",\n",
        "    \"model\":\"passat\",\n",
        "    \"year\":2023,\n",
        "    \"price\":30000\n",
        "} "
      ],
      "metadata": {
        "id": "o86r9TWo1kQj"
      },
      "execution_count": null,
      "outputs": []
    },
    {
      "cell_type": "code",
      "source": [
        "type(car2)"
      ],
      "metadata": {
        "colab": {
          "base_uri": "https://localhost:8080/"
        },
        "id": "GvuRHNHS147a",
        "outputId": "d905e93d-563c-4f01-e4bb-aa1321d6f71b"
      },
      "execution_count": null,
      "outputs": [
        {
          "output_type": "execute_result",
          "data": {
            "text/plain": [
              "dict"
            ]
          },
          "metadata": {},
          "execution_count": 28
        }
      ]
    },
    {
      "cell_type": "code",
      "source": [
        "print(car2[\"year\"])"
      ],
      "metadata": {
        "colab": {
          "base_uri": "https://localhost:8080/"
        },
        "id": "jtZMWZaP16yL",
        "outputId": "a31a55dc-319b-43f8-b8c6-40c06d3480dd"
      },
      "execution_count": null,
      "outputs": [
        {
          "output_type": "stream",
          "name": "stdout",
          "text": [
            "2023\n"
          ]
        }
      ]
    },
    {
      "cell_type": "code",
      "source": [
        "car2={\n",
        "    \"brand\":\"bmw\",\n",
        "    \"model\":\"ix3\",\n",
        "    \"year\":2022,\n",
        "    \"price\":2250,\n",
        "    \"price\":35000\n",
        "}"
      ],
      "metadata": {
        "id": "r88Av-YE18Wa"
      },
      "execution_count": null,
      "outputs": []
    },
    {
      "cell_type": "code",
      "source": [
        "car2"
      ],
      "metadata": {
        "colab": {
          "base_uri": "https://localhost:8080/"
        },
        "id": "bNwsWUxX4NrK",
        "outputId": "ec8263f5-5d0f-4189-9e4a-ed92c5c4a035"
      },
      "execution_count": null,
      "outputs": [
        {
          "output_type": "execute_result",
          "data": {
            "text/plain": [
              "{'brand': 'bmw', 'model': 'ix3', 'year': 2022, 'price': 35000}"
            ]
          },
          "metadata": {},
          "execution_count": 31
        }
      ]
    },
    {
      "cell_type": "code",
      "source": [
        "print(len(car2))"
      ],
      "metadata": {
        "colab": {
          "base_uri": "https://localhost:8080/"
        },
        "id": "vab4nPS24fUz",
        "outputId": "c190fb2d-7892-4756-f4c8-90ad22045285"
      },
      "execution_count": null,
      "outputs": [
        {
          "output_type": "stream",
          "name": "stdout",
          "text": [
            "4\n"
          ]
        }
      ]
    },
    {
      "cell_type": "code",
      "source": [
        "car3={\n",
        "    \"brand\":\"audi\",\n",
        "    \"model\":\"a4\",\n",
        "    \"year\":2023,\n",
        "    \"price\":32500,\n",
        "    \"color\":[\"black\",\"orange\",\"blue\"]\n",
        "}"
      ],
      "metadata": {
        "id": "ovIPc6IY4hM9"
      },
      "execution_count": null,
      "outputs": []
    },
    {
      "cell_type": "code",
      "source": [
        "print(car3[\"color\"])"
      ],
      "metadata": {
        "colab": {
          "base_uri": "https://localhost:8080/"
        },
        "id": "WYb8OULJ5P9v",
        "outputId": "15cf75e9-6555-4664-eada-f0c4f29d4fbc"
      },
      "execution_count": null,
      "outputs": [
        {
          "output_type": "stream",
          "name": "stdout",
          "text": [
            "['black', 'orange', 'blue']\n"
          ]
        }
      ]
    },
    {
      "cell_type": "code",
      "source": [
        "car3[\"year\"]=2022"
      ],
      "metadata": {
        "id": "QEstXnkP5SPA"
      },
      "execution_count": null,
      "outputs": []
    },
    {
      "cell_type": "code",
      "source": [
        "car3"
      ],
      "metadata": {
        "colab": {
          "base_uri": "https://localhost:8080/"
        },
        "id": "ZGRpYzMb5Wgy",
        "outputId": "29494bf9-e002-4899-f0ff-d27075f19975"
      },
      "execution_count": null,
      "outputs": [
        {
          "output_type": "execute_result",
          "data": {
            "text/plain": [
              "{'brand': 'audi',\n",
              " 'model': 'a4',\n",
              " 'year': 2022,\n",
              " 'price': 32500,\n",
              " 'color': ['black', 'orange', 'blue']}"
            ]
          },
          "metadata": {},
          "execution_count": 8
        }
      ]
    },
    {
      "cell_type": "code",
      "source": [
        "car3.update({\"model\":\"a6\"})"
      ],
      "metadata": {
        "id": "8DlufXuI5Xme"
      },
      "execution_count": null,
      "outputs": []
    },
    {
      "cell_type": "code",
      "source": [
        "car3"
      ],
      "metadata": {
        "colab": {
          "base_uri": "https://localhost:8080/"
        },
        "id": "aD12atW35eoa",
        "outputId": "bddbfdab-e129-4a9a-ce68-57944fad2aab"
      },
      "execution_count": null,
      "outputs": [
        {
          "output_type": "execute_result",
          "data": {
            "text/plain": [
              "{'brand': 'audi',\n",
              " 'model': 'a6',\n",
              " 'year': 2022,\n",
              " 'price': 32500,\n",
              " 'color': ['black', 'orange', 'blue']}"
            ]
          },
          "metadata": {},
          "execution_count": 10
        }
      ]
    },
    {
      "cell_type": "code",
      "source": [
        "car3.pop(\"price\")"
      ],
      "metadata": {
        "colab": {
          "base_uri": "https://localhost:8080/"
        },
        "id": "84hja2dJ5f2j",
        "outputId": "6e733565-8ac2-45a7-d4ae-0cd4bc5a25fc"
      },
      "execution_count": null,
      "outputs": [
        {
          "output_type": "execute_result",
          "data": {
            "text/plain": [
              "32500"
            ]
          },
          "metadata": {},
          "execution_count": 11
        }
      ]
    },
    {
      "cell_type": "code",
      "source": [
        "car3"
      ],
      "metadata": {
        "colab": {
          "base_uri": "https://localhost:8080/"
        },
        "id": "_V6eEuBw5iiG",
        "outputId": "bfcb8ea5-fbb2-4526-9eb3-d1c3e1386e24"
      },
      "execution_count": null,
      "outputs": [
        {
          "output_type": "execute_result",
          "data": {
            "text/plain": [
              "{'brand': 'audi',\n",
              " 'model': 'a6',\n",
              " 'year': 2022,\n",
              " 'color': ['black', 'orange', 'blue']}"
            ]
          },
          "metadata": {},
          "execution_count": 12
        }
      ]
    },
    {
      "cell_type": "code",
      "source": [
        "del car3[\"model\"]"
      ],
      "metadata": {
        "id": "6B2edpYQ6Md-"
      },
      "execution_count": null,
      "outputs": []
    },
    {
      "cell_type": "code",
      "source": [
        "car3"
      ],
      "metadata": {
        "colab": {
          "base_uri": "https://localhost:8080/"
        },
        "id": "hwCzlZjm5lVY",
        "outputId": "5f872fc4-8698-42b3-c692-e6d219cdddf4"
      },
      "execution_count": null,
      "outputs": [
        {
          "output_type": "execute_result",
          "data": {
            "text/plain": [
              "{'brand': 'audi', 'year': 2022, 'color': ['black', 'orange', 'blue']}"
            ]
          },
          "metadata": {},
          "execution_count": 14
        }
      ]
    },
    {
      "cell_type": "code",
      "source": [
        "car3.clear()"
      ],
      "metadata": {
        "id": "yCgCedHG5m12"
      },
      "execution_count": null,
      "outputs": []
    },
    {
      "cell_type": "code",
      "source": [
        "print(car3)"
      ],
      "metadata": {
        "colab": {
          "base_uri": "https://localhost:8080/"
        },
        "id": "-n8GfZ6-6Kkm",
        "outputId": "0b09a6b4-42fa-4cc8-ae40-397ebe6523c3"
      },
      "execution_count": null,
      "outputs": [
        {
          "output_type": "stream",
          "name": "stdout",
          "text": [
            "{'brand': 'audi', 'year': 2022, 'color': ['black', 'orange', 'blue']}\n"
          ]
        }
      ]
    },
    {
      "cell_type": "code",
      "source": [
        "\"---------------------lesson 3---------------------\""
      ],
      "metadata": {
        "colab": {
          "base_uri": "https://localhost:8080/",
          "height": 35
        },
        "id": "PRUD6wzkYpyf",
        "outputId": "83b62ebf-4cf0-4ce0-e495-b64248879d4d"
      },
      "execution_count": null,
      "outputs": [
        {
          "output_type": "execute_result",
          "data": {
            "text/plain": [
              "'---------------------lesson 3---------------------'"
            ],
            "application/vnd.google.colaboratory.intrinsic+json": {
              "type": "string"
            }
          },
          "metadata": {},
          "execution_count": 17
        }
      ]
    },
    {
      "cell_type": "code",
      "source": [
        "d=33\n",
        "c=200\n",
        "if c>d:\n",
        "  print(\"c is greater than d\")"
      ],
      "metadata": {
        "colab": {
          "base_uri": "https://localhost:8080/"
        },
        "id": "S9QZtpOUZAar",
        "outputId": "3f4c9a9f-2580-400e-a55b-31393d694e8a"
      },
      "execution_count": null,
      "outputs": [
        {
          "output_type": "stream",
          "name": "stdout",
          "text": [
            "c is greater than d\n"
          ]
        }
      ]
    },
    {
      "cell_type": "code",
      "source": [
        "a=int(input(\"write a variable:\"));"
      ],
      "metadata": {
        "colab": {
          "base_uri": "https://localhost:8080/"
        },
        "id": "c2M9uYxhZKQi",
        "outputId": "d7846c7e-6363-4cad-e99a-c2903d6cec63"
      },
      "execution_count": null,
      "outputs": [
        {
          "name": "stdout",
          "output_type": "stream",
          "text": [
            "write a variable:32\n"
          ]
        }
      ]
    },
    {
      "cell_type": "code",
      "source": [
        "b=int(input(\"write b variable:\"))"
      ],
      "metadata": {
        "colab": {
          "base_uri": "https://localhost:8080/"
        },
        "id": "GXP1z5wjZrKq",
        "outputId": "77e68ecc-8845-4d92-a5b1-6fde6a7968a3"
      },
      "execution_count": null,
      "outputs": [
        {
          "name": "stdout",
          "output_type": "stream",
          "text": [
            "write b variable:87\n"
          ]
        }
      ]
    },
    {
      "cell_type": "code",
      "source": [
        "x=44\n",
        "y=44\n",
        "if y>x:\n",
        "  print(\"y is greater than x\")\n",
        "elif x==y:\n",
        "  print(\"x and y are equal\")\n",
        "     "
      ],
      "metadata": {
        "colab": {
          "base_uri": "https://localhost:8080/"
        },
        "id": "iKZlTiggZt0F",
        "outputId": "e8e866b7-8aaf-454f-8550-8e85f42a1812"
      },
      "execution_count": null,
      "outputs": [
        {
          "output_type": "stream",
          "name": "stdout",
          "text": [
            "x and y are equal\n"
          ]
        }
      ]
    },
    {
      "cell_type": "code",
      "source": [
        "a=int(input(\"a value is:\"))"
      ],
      "metadata": {
        "colab": {
          "base_uri": "https://localhost:8080/"
        },
        "id": "uMHztKN-Z1D4",
        "outputId": "2e30b901-6c4a-4eff-f330-06bdac114fa5"
      },
      "execution_count": null,
      "outputs": [
        {
          "name": "stdout",
          "output_type": "stream",
          "text": [
            "a value is:2\n"
          ]
        }
      ]
    },
    {
      "cell_type": "code",
      "source": [
        "b=int(input(\"b value is:\"))"
      ],
      "metadata": {
        "colab": {
          "base_uri": "https://localhost:8080/"
        },
        "id": "vrP2irmhZ5pj",
        "outputId": "82282d8f-c5ff-452c-be65-2296c0d6fa50"
      },
      "execution_count": null,
      "outputs": [
        {
          "name": "stdout",
          "output_type": "stream",
          "text": [
            "b value is:4\n"
          ]
        }
      ]
    },
    {
      "cell_type": "code",
      "source": [
        "if a==b:\n",
        "  print(\"a and b are equal\")\n",
        "elif a>b:\n",
        "  print(\"a is greater than b\")\n",
        "elif a<b:\n",
        "  print(\"b is greater than a\")"
      ],
      "metadata": {
        "colab": {
          "base_uri": "https://localhost:8080/"
        },
        "id": "uURKgOcvZ-ja",
        "outputId": "6ca8ae01-1f32-430a-b01a-c61f9ac4f9c4"
      },
      "execution_count": null,
      "outputs": [
        {
          "output_type": "stream",
          "name": "stdout",
          "text": [
            "b is greater than a\n"
          ]
        }
      ]
    },
    {
      "cell_type": "code",
      "source": [
        "a=123\n",
        "b=55\n",
        "if b>a:\n",
        "  print(\"b is greater than a\")\n",
        "else:\n",
        "  print(\"a is equal or greater than b\")"
      ],
      "metadata": {
        "colab": {
          "base_uri": "https://localhost:8080/"
        },
        "id": "KcggAOZraDJT",
        "outputId": "3f220789-ee0a-47a8-b433-089885f9e9fa"
      },
      "execution_count": null,
      "outputs": [
        {
          "output_type": "stream",
          "name": "stdout",
          "text": [
            "a is equal or greater than b\n"
          ]
        }
      ]
    },
    {
      "cell_type": "code",
      "source": [
        "age=int(input(\"Write your age:\"))"
      ],
      "metadata": {
        "colab": {
          "base_uri": "https://localhost:8080/"
        },
        "id": "_n_FLzclaavQ",
        "outputId": "3ef917bd-97cc-459f-909e-2a604b127b27"
      },
      "execution_count": null,
      "outputs": [
        {
          "name": "stdout",
          "output_type": "stream",
          "text": [
            "Write your age:22\n"
          ]
        }
      ]
    },
    {
      "cell_type": "code",
      "source": [
        "if age>18:\n",
        "  print(\"You can log in the system\")\n",
        "elif age==18:\n",
        "  print(\"You can log in the system\")\n",
        "else:\n",
        "  print(\"you can not log in the system\")"
      ],
      "metadata": {
        "colab": {
          "base_uri": "https://localhost:8080/"
        },
        "id": "dbTUoAAladJd",
        "outputId": "8cad0cf5-255d-405e-9f2c-9b874b870196"
      },
      "execution_count": null,
      "outputs": [
        {
          "output_type": "stream",
          "name": "stdout",
          "text": [
            "You can log in the system\n"
          ]
        }
      ]
    },
    {
      "cell_type": "code",
      "source": [
        "a=100\n",
        "b=21\n",
        "c=650\n",
        "if a>b and c>a:\n",
        "  print(\"a is greater than b and c is greater than a\")"
      ],
      "metadata": {
        "colab": {
          "base_uri": "https://localhost:8080/"
        },
        "id": "lGlMcYvdatgl",
        "outputId": "d5164021-d04c-4283-ec22-5bafad76d9aa"
      },
      "execution_count": null,
      "outputs": [
        {
          "output_type": "stream",
          "name": "stdout",
          "text": [
            "a is greater than b and c is greater than a\n"
          ]
        }
      ]
    },
    {
      "cell_type": "code",
      "source": [
        "a=200\n",
        "b=33\n",
        "c=500\n",
        "if a>b or a>c:\n",
        "  print(\"a is greater than b or a is greater than c\")"
      ],
      "metadata": {
        "colab": {
          "base_uri": "https://localhost:8080/"
        },
        "id": "HxsQX07savob",
        "outputId": "d0ebc8f2-89a8-4c88-fdd6-9e4400fe0519"
      },
      "execution_count": null,
      "outputs": [
        {
          "output_type": "stream",
          "name": "stdout",
          "text": [
            "a is greater than b or a is greater than c\n"
          ]
        }
      ]
    },
    {
      "cell_type": "code",
      "source": [
        "number=int(input(\"Select a number:\"))\n",
        "if number<10:\n",
        "  print(\"You can enter this game\")\n",
        "  if number==5:\n",
        "    print(\"Cong. You find the target number\")\n",
        "  else:\n",
        "    print(\"You lose\")"
      ],
      "metadata": {
        "colab": {
          "base_uri": "https://localhost:8080/"
        },
        "id": "HtMzEuKta5-b",
        "outputId": "7edb7e21-ad28-4ed5-df41-744a976c7e7e"
      },
      "execution_count": null,
      "outputs": [
        {
          "output_type": "stream",
          "name": "stdout",
          "text": [
            "Select a number:5\n",
            "You can enter this game\n",
            "Cong. You find the target number\n"
          ]
        }
      ]
    },
    {
      "cell_type": "code",
      "source": [
        "i=1\n",
        "while i<6:\n",
        "  print(i)\n",
        "  if i==3:\n",
        "    break\n",
        "  i+=1"
      ],
      "metadata": {
        "colab": {
          "base_uri": "https://localhost:8080/"
        },
        "id": "bebgr_4TbXyF",
        "outputId": "bba00c11-6106-4ce2-ada0-c7ba96a51dc8"
      },
      "execution_count": null,
      "outputs": [
        {
          "output_type": "stream",
          "name": "stdout",
          "text": [
            "1\n",
            "2\n",
            "3\n"
          ]
        }
      ]
    },
    {
      "cell_type": "code",
      "source": [
        "i=0\n",
        "while i<6:\n",
        "  i+=1\n",
        "  if i==3:\n",
        "    continue\n",
        "  print(i)\n",
        "     "
      ],
      "metadata": {
        "colab": {
          "base_uri": "https://localhost:8080/"
        },
        "id": "cQr7BfH_blCL",
        "outputId": "6dd88d29-3d63-4e0d-8859-8a0f90cdf161"
      },
      "execution_count": null,
      "outputs": [
        {
          "output_type": "stream",
          "name": "stdout",
          "text": [
            "1\n",
            "2\n",
            "4\n",
            "5\n",
            "6\n"
          ]
        }
      ]
    },
    {
      "cell_type": "code",
      "source": [
        "fruits=[\"apple\",\"banana\",\"cherry\"]\n",
        "for x in fruits:\n",
        "  print(x)\n",
        "  if x==\"banana\":\n",
        "    break\n",
        "     "
      ],
      "metadata": {
        "colab": {
          "base_uri": "https://localhost:8080/"
        },
        "id": "ErG_kKhFbzk0",
        "outputId": "52450892-41f1-48b2-ce24-d5d250835e3d"
      },
      "execution_count": null,
      "outputs": [
        {
          "output_type": "stream",
          "name": "stdout",
          "text": [
            "apple\n",
            "banana\n"
          ]
        }
      ]
    },
    {
      "cell_type": "code",
      "source": [
        "fruits=[\"apple\",\"banana\",\"cherry\"]\n",
        "for x in fruits:\n",
        "  if x==\"banana\":\n",
        "    continue\n",
        "  print(x)\n"
      ],
      "metadata": {
        "colab": {
          "base_uri": "https://localhost:8080/"
        },
        "id": "nCR10tiGbz8x",
        "outputId": "10f2c0bf-4e9c-410f-8d7c-f3831a0b76cf"
      },
      "execution_count": null,
      "outputs": [
        {
          "output_type": "stream",
          "name": "stdout",
          "text": [
            "apple\n",
            "cherry\n"
          ]
        }
      ]
    },
    {
      "cell_type": "code",
      "source": [
        "for x in range(2,15,3):\n",
        "  print(x)"
      ],
      "metadata": {
        "colab": {
          "base_uri": "https://localhost:8080/"
        },
        "id": "K3dZR1ojb14P",
        "outputId": "95581fad-5f9b-4fab-f708-59b632abf327"
      },
      "execution_count": null,
      "outputs": [
        {
          "output_type": "stream",
          "name": "stdout",
          "text": [
            "2\n",
            "5\n",
            "8\n",
            "11\n",
            "14\n"
          ]
        }
      ]
    },
    {
      "cell_type": "code",
      "source": [
        "for x in range(6):\n",
        "  print(x)\n",
        "else:\n",
        "  print(\"Finally finished!\")"
      ],
      "metadata": {
        "colab": {
          "base_uri": "https://localhost:8080/"
        },
        "id": "MBkPZlV1b97e",
        "outputId": "14bd5ec4-ecf7-4955-a61d-b51d1cebad12"
      },
      "execution_count": null,
      "outputs": [
        {
          "output_type": "stream",
          "name": "stdout",
          "text": [
            "0\n",
            "1\n",
            "2\n",
            "3\n",
            "4\n",
            "5\n",
            "Finally finished!\n"
          ]
        }
      ]
    },
    {
      "cell_type": "code",
      "source": [
        "numbers=[1,2,3]\n",
        "for x in numbers:\n",
        "  #other developer will write here\n",
        "  pass"
      ],
      "metadata": {
        "id": "197tslASb-uD"
      },
      "execution_count": null,
      "outputs": []
    },
    {
      "cell_type": "code",
      "source": [
        "nurdincar=input(\"nurdin's car is :\")"
      ],
      "metadata": {
        "colab": {
          "base_uri": "https://localhost:8080/"
        },
        "id": "yhpFIAOkcMVE",
        "outputId": "1c4485ab-d9e5-4bb2-85b3-1db230e0c63c"
      },
      "execution_count": null,
      "outputs": [
        {
          "name": "stdout",
          "output_type": "stream",
          "text": [
            "nurdin's car is :audi\n"
          ]
        }
      ]
    },
    {
      "cell_type": "code",
      "source": [
        "cars=[\"bmw\",\"toyota\",\"tesla\"]"
      ],
      "metadata": {
        "id": "9_WKMOLacOju"
      },
      "execution_count": null,
      "outputs": []
    },
    {
      "cell_type": "code",
      "source": [
        "cars.append(nurdincar)"
      ],
      "metadata": {
        "id": "4w9QarFicUCg"
      },
      "execution_count": null,
      "outputs": []
    },
    {
      "cell_type": "code",
      "source": [
        "cars"
      ],
      "metadata": {
        "colab": {
          "base_uri": "https://localhost:8080/"
        },
        "id": "NbQvHMDSccFv",
        "outputId": "5569b306-53b6-4c13-fa9d-ff01b2ce997a"
      },
      "execution_count": null,
      "outputs": [
        {
          "output_type": "execute_result",
          "data": {
            "text/plain": [
              "['bmw', 'toyota', 'tesla', 'audi']"
            ]
          },
          "metadata": {},
          "execution_count": 63
        }
      ]
    },
    {
      "cell_type": "code",
      "source": [
        "\"-------------------------lesson 4---------------------\""
      ],
      "metadata": {
        "colab": {
          "base_uri": "https://localhost:8080/",
          "height": 35
        },
        "id": "VyUih52XcdE-",
        "outputId": "99d683f9-1364-47b2-a0af-55f83ef0db41"
      },
      "execution_count": null,
      "outputs": [
        {
          "output_type": "execute_result",
          "data": {
            "text/plain": [
              "'-------------------------lesson 4---------------------'"
            ],
            "application/vnd.google.colaboratory.intrinsic+json": {
              "type": "string"
            }
          },
          "metadata": {},
          "execution_count": 64
        }
      ]
    },
    {
      "cell_type": "code",
      "source": [
        "students=[\"ahmet\", \"mehmet\",\"megumi\"]\n",
        "for student in students:\n",
        "  print(student)"
      ],
      "metadata": {
        "colab": {
          "base_uri": "https://localhost:8080/"
        },
        "id": "pFF3ow0acgs5",
        "outputId": "f89f7a6f-9887-4a90-ba2d-4f8daacfa0ee"
      },
      "execution_count": null,
      "outputs": [
        {
          "output_type": "stream",
          "name": "stdout",
          "text": [
            "ahmet\n",
            "mehmet\n",
            "megumi\n"
          ]
        }
      ]
    },
    {
      "cell_type": "code",
      "source": [
        "students=[\"ahmet\", \"mehmet\",\"megumi\"]\n",
        "for student in students:\n",
        "  print(f\"{student.title()} attends Python Programming Course!\")"
      ],
      "metadata": {
        "colab": {
          "base_uri": "https://localhost:8080/"
        },
        "id": "2F9VPDU-cnQx",
        "outputId": "97d24c44-3220-4f8d-f0bd-e455cc0a5fed"
      },
      "execution_count": null,
      "outputs": [
        {
          "output_type": "stream",
          "name": "stdout",
          "text": [
            "Ahmet attends Python Programming Course!\n",
            "Mehmet attends Python Programming Course!\n",
            "Megumi attends Python Programming Course!\n"
          ]
        }
      ]
    },
    {
      "cell_type": "code",
      "source": [
        "even_numbers=list(range(2,9,3))\n",
        "print(even_numbers)"
      ],
      "metadata": {
        "colab": {
          "base_uri": "https://localhost:8080/"
        },
        "id": "7eabAOuDcvNz",
        "outputId": "ae78af68-4582-40d6-b43c-ab6c6df6bc75"
      },
      "execution_count": null,
      "outputs": [
        {
          "output_type": "stream",
          "name": "stdout",
          "text": [
            "[2, 5, 8]\n"
          ]
        }
      ]
    },
    {
      "cell_type": "code",
      "source": [
        "squares=[]\n",
        "for value in range(1,11):\n",
        "  square =value**2\n",
        "  squares.append(square)\n",
        "  print(squares)"
      ],
      "metadata": {
        "colab": {
          "base_uri": "https://localhost:8080/"
        },
        "id": "oQhdzt-1c3KO",
        "outputId": "b47ae23c-b8f6-4ce0-db9a-30415cebd7f5"
      },
      "execution_count": null,
      "outputs": [
        {
          "output_type": "stream",
          "name": "stdout",
          "text": [
            "[1]\n",
            "[1, 4]\n",
            "[1, 4, 9]\n",
            "[1, 4, 9, 16]\n",
            "[1, 4, 9, 16, 25]\n",
            "[1, 4, 9, 16, 25, 36]\n",
            "[1, 4, 9, 16, 25, 36, 49]\n",
            "[1, 4, 9, 16, 25, 36, 49, 64]\n",
            "[1, 4, 9, 16, 25, 36, 49, 64, 81]\n",
            "[1, 4, 9, 16, 25, 36, 49, 64, 81, 100]\n"
          ]
        }
      ]
    },
    {
      "cell_type": "code",
      "source": [
        "digits=list(range(0,10))\n",
        "print(digits)"
      ],
      "metadata": {
        "colab": {
          "base_uri": "https://localhost:8080/"
        },
        "id": "iUJf0tsfc79o",
        "outputId": "30e6b1de-1179-4d5c-b4b6-26bd12d1d3e3"
      },
      "execution_count": null,
      "outputs": [
        {
          "output_type": "stream",
          "name": "stdout",
          "text": [
            "[0, 1, 2, 3, 4, 5, 6, 7, 8, 9]\n"
          ]
        }
      ]
    },
    {
      "cell_type": "code",
      "source": [
        "min(digits)"
      ],
      "metadata": {
        "colab": {
          "base_uri": "https://localhost:8080/"
        },
        "id": "Fsfs9x9Ec_V2",
        "outputId": "5d3a2ab4-4159-4172-fca6-4e4ca029ed5b"
      },
      "execution_count": null,
      "outputs": [
        {
          "output_type": "execute_result",
          "data": {
            "text/plain": [
              "0"
            ]
          },
          "metadata": {},
          "execution_count": 70
        }
      ]
    },
    {
      "cell_type": "code",
      "source": [
        "max(digits)"
      ],
      "metadata": {
        "colab": {
          "base_uri": "https://localhost:8080/"
        },
        "id": "b1sZeirbdBa-",
        "outputId": "d9d22689-a45c-4b6d-f6de-9f59fa5d12f6"
      },
      "execution_count": null,
      "outputs": [
        {
          "output_type": "execute_result",
          "data": {
            "text/plain": [
              "9"
            ]
          },
          "metadata": {},
          "execution_count": 71
        }
      ]
    },
    {
      "cell_type": "code",
      "source": [
        "sum(digits)"
      ],
      "metadata": {
        "colab": {
          "base_uri": "https://localhost:8080/"
        },
        "id": "C8DGSsPfdCuK",
        "outputId": "7fb1a3a0-0f35-4a4b-c97d-204e872f968f"
      },
      "execution_count": null,
      "outputs": [
        {
          "output_type": "execute_result",
          "data": {
            "text/plain": [
              "45"
            ]
          },
          "metadata": {},
          "execution_count": 72
        }
      ]
    },
    {
      "cell_type": "code",
      "source": [
        "squares=[value**2 for value in range(2,22)]\n",
        "print(squares)"
      ],
      "metadata": {
        "colab": {
          "base_uri": "https://localhost:8080/"
        },
        "id": "wJgoH_4rdE9J",
        "outputId": "c1474025-fcf5-45b0-9e7d-5ef93743189c"
      },
      "execution_count": null,
      "outputs": [
        {
          "output_type": "stream",
          "name": "stdout",
          "text": [
            "[4, 9, 16, 25, 36, 49, 64, 81, 100, 121, 144, 169, 196, 225, 256, 289, 324, 361, 400, 441]\n"
          ]
        }
      ]
    },
    {
      "cell_type": "code",
      "source": [
        "cars =[\"audi\", \"tesla\", \"mercedes\", \"toyota\", \"bmw\"]"
      ],
      "metadata": {
        "id": "XeAmTKbsdJNR"
      },
      "execution_count": null,
      "outputs": []
    },
    {
      "cell_type": "code",
      "source": [
        "print(cars[1:4])"
      ],
      "metadata": {
        "colab": {
          "base_uri": "https://localhost:8080/"
        },
        "id": "BFvqJLm3dT26",
        "outputId": "91d65a98-8d96-452f-a879-d4ab086e3ce1"
      },
      "execution_count": null,
      "outputs": [
        {
          "output_type": "stream",
          "name": "stdout",
          "text": [
            "['tesla', 'mercedes', 'toyota']\n"
          ]
        }
      ]
    },
    {
      "cell_type": "code",
      "source": [
        "print(cars[2:])"
      ],
      "metadata": {
        "colab": {
          "base_uri": "https://localhost:8080/"
        },
        "id": "i_gYG9wZdWg2",
        "outputId": "1b77c047-9be6-4ce0-8e3f-0a3bc51e8270"
      },
      "execution_count": null,
      "outputs": [
        {
          "output_type": "stream",
          "name": "stdout",
          "text": [
            "['mercedes', 'toyota', 'bmw']\n"
          ]
        }
      ]
    },
    {
      "cell_type": "code",
      "source": [
        "my_foods=[\"pizza\",\"hamburger\",\"cake\"]\n",
        "friend_foods=my_foods[:]\n",
        "print(\"My favorite foods are:\")\n",
        "print(my_foods)\n",
        "print(\"\\nMy friend's  favorite foods are:\")\n",
        "print(friend_foods)"
      ],
      "metadata": {
        "colab": {
          "base_uri": "https://localhost:8080/"
        },
        "id": "S0RWDQD0da7A",
        "outputId": "237b2ec4-e846-46c4-9c09-333672ed817b"
      },
      "execution_count": null,
      "outputs": [
        {
          "output_type": "stream",
          "name": "stdout",
          "text": [
            "My favorite foods are:\n",
            "['pizza', 'hamburger', 'cake']\n",
            "\n",
            "My friend's  favorite foods are:\n",
            "['pizza', 'hamburger', 'cake']\n"
          ]
        }
      ]
    },
    {
      "cell_type": "code",
      "source": [
        "print(my_foods)"
      ],
      "metadata": {
        "colab": {
          "base_uri": "https://localhost:8080/"
        },
        "id": "4FI145Cbdlic",
        "outputId": "c388d950-3d09-42cb-a27e-3cb47298b621"
      },
      "execution_count": null,
      "outputs": [
        {
          "output_type": "stream",
          "name": "stdout",
          "text": [
            "['pizza', 'hamburger', 'cake']\n"
          ]
        }
      ]
    },
    {
      "cell_type": "code",
      "source": [
        "murat_foods=my_foods"
      ],
      "metadata": {
        "id": "iLN-DGQgdo-4"
      },
      "execution_count": null,
      "outputs": []
    },
    {
      "cell_type": "code",
      "source": [
        "print(murat_foods)"
      ],
      "metadata": {
        "colab": {
          "base_uri": "https://localhost:8080/"
        },
        "id": "jePh6RVLdsKT",
        "outputId": "0e908bf5-5508-4a7f-e2e4-3b76978c40ec"
      },
      "execution_count": null,
      "outputs": [
        {
          "output_type": "stream",
          "name": "stdout",
          "text": [
            "['pizza', 'hamburger', 'cake']\n"
          ]
        }
      ]
    },
    {
      "cell_type": "code",
      "source": [
        "def takeSquare(number1):\n",
        "  result= number1*number1\n",
        "  print(result)"
      ],
      "metadata": {
        "id": "IDPGUp5Ddv4F"
      },
      "execution_count": null,
      "outputs": []
    },
    {
      "cell_type": "code",
      "source": [
        "takeSquare(23)"
      ],
      "metadata": {
        "colab": {
          "base_uri": "https://localhost:8080/"
        },
        "id": "DEmvhtSud1nR",
        "outputId": "9d522c7f-3473-4b8e-deb6-d871b5f2c768"
      },
      "execution_count": null,
      "outputs": [
        {
          "output_type": "stream",
          "name": "stdout",
          "text": [
            "529\n"
          ]
        }
      ]
    },
    {
      "cell_type": "code",
      "source": [
        "def describePet(animal_type, pet_name):\n",
        "  print(f\"\\nI have a {animal_type}.\")\n",
        "  print(f\" {pet_name} is mine \")"
      ],
      "metadata": {
        "id": "g_Kv6YNod4YX"
      },
      "execution_count": null,
      "outputs": []
    },
    {
      "cell_type": "code",
      "source": [
        "describePet(\"bird\", \"Mad\")"
      ],
      "metadata": {
        "colab": {
          "base_uri": "https://localhost:8080/"
        },
        "id": "c5NGaSyMd7sO",
        "outputId": "72856994-4805-44b8-fef5-4e85d7435bab"
      },
      "execution_count": null,
      "outputs": [
        {
          "output_type": "stream",
          "name": "stdout",
          "text": [
            "\n",
            "I have a bird.\n",
            " Mad is mine \n"
          ]
        }
      ]
    },
    {
      "cell_type": "code",
      "source": [
        "def girls(girl1, girl2,girl3):\n",
        "  print(\"The youngest girl is \" + girl3)"
      ],
      "metadata": {
        "id": "XJ8ndDoueAlZ"
      },
      "execution_count": null,
      "outputs": []
    },
    {
      "cell_type": "code",
      "source": [
        "girls(girl1=\"ayse\", girl2=\"leyla\", girl3=\"fatma\")"
      ],
      "metadata": {
        "colab": {
          "base_uri": "https://localhost:8080/"
        },
        "id": "QEJ5dgKCeXxx",
        "outputId": "b9633e62-6e6f-4e2d-8601-52e8c832d5e9"
      },
      "execution_count": null,
      "outputs": [
        {
          "output_type": "stream",
          "name": "stdout",
          "text": [
            "The youngest girl is fatma\n"
          ]
        }
      ]
    },
    {
      "cell_type": "code",
      "source": [
        "def my_function(food):\n",
        "  for x in food:\n",
        "    print(x)"
      ],
      "metadata": {
        "id": "5pmqyZPAeZd8"
      },
      "execution_count": null,
      "outputs": []
    },
    {
      "cell_type": "code",
      "source": [
        "fruits=[\"banana\", \"apple\", \"cherry\"]"
      ],
      "metadata": {
        "id": "nTkyT5wnejNk"
      },
      "execution_count": null,
      "outputs": []
    },
    {
      "cell_type": "code",
      "source": [
        "my_function(fruits)"
      ],
      "metadata": {
        "colab": {
          "base_uri": "https://localhost:8080/"
        },
        "id": "YPalyfJ2ekiS",
        "outputId": "78717703-b0fb-4f41-cb68-2867dc4009c2"
      },
      "execution_count": null,
      "outputs": [
        {
          "output_type": "stream",
          "name": "stdout",
          "text": [
            "banana\n",
            "apple\n",
            "cherry\n"
          ]
        }
      ]
    },
    {
      "cell_type": "code",
      "source": [
        "def x(a):\n",
        "  a=a+12\n",
        "  return a"
      ],
      "metadata": {
        "id": "D9Di6Al0el8D"
      },
      "execution_count": null,
      "outputs": []
    },
    {
      "cell_type": "code",
      "source": [
        "b=x(5)"
      ],
      "metadata": {
        "id": "0eZaKhboeqQD"
      },
      "execution_count": null,
      "outputs": []
    },
    {
      "cell_type": "code",
      "source": [
        "print(b)"
      ],
      "metadata": {
        "colab": {
          "base_uri": "https://localhost:8080/"
        },
        "id": "ImBWmRPAet8g",
        "outputId": "6f259348-582b-428a-ec3b-1f207bb7502d"
      },
      "execution_count": null,
      "outputs": [
        {
          "output_type": "stream",
          "name": "stdout",
          "text": [
            "17\n"
          ]
        }
      ]
    },
    {
      "cell_type": "code",
      "source": [
        "x= lambda a : a+10"
      ],
      "metadata": {
        "id": "ZYKvVe0Eeu_Z"
      },
      "execution_count": null,
      "outputs": []
    },
    {
      "cell_type": "code",
      "source": [
        "print(x(5))\n"
      ],
      "metadata": {
        "colab": {
          "base_uri": "https://localhost:8080/"
        },
        "id": "ATVVEgdXezfN",
        "outputId": "80757e8b-bc7e-49ac-c1c8-3e43b9aa50f1"
      },
      "execution_count": null,
      "outputs": [
        {
          "output_type": "stream",
          "name": "stdout",
          "text": [
            "15\n"
          ]
        }
      ]
    },
    {
      "cell_type": "code",
      "source": [
        "x = lambda y: y*15\n",
        "x(5)"
      ],
      "metadata": {
        "colab": {
          "base_uri": "https://localhost:8080/"
        },
        "id": "ZBp9md9Ve08H",
        "outputId": "0c5e23e5-2739-46a6-ca9a-75aabc7e8db3"
      },
      "execution_count": null,
      "outputs": [
        {
          "output_type": "execute_result",
          "data": {
            "text/plain": [
              "75"
            ]
          },
          "metadata": {},
          "execution_count": 110
        }
      ]
    },
    {
      "cell_type": "code",
      "source": [
        "def myfunc(n):\n",
        "  return lambda a : a*n\n",
        "     "
      ],
      "metadata": {
        "id": "suomdH2ie6Ya"
      },
      "execution_count": null,
      "outputs": []
    },
    {
      "cell_type": "code",
      "source": [
        "mydoubler=myfunc(2)\n",
        "print(mydoubler(11))"
      ],
      "metadata": {
        "colab": {
          "base_uri": "https://localhost:8080/"
        },
        "id": "-aRgM9jGfBcn",
        "outputId": "715b9032-6871-46d8-cd0e-dabdecdb9a54"
      },
      "execution_count": null,
      "outputs": [
        {
          "output_type": "stream",
          "name": "stdout",
          "text": [
            "22\n"
          ]
        }
      ]
    },
    {
      "cell_type": "code",
      "source": [
        "def findGreat(x,y):\n",
        "  if x>y:\n",
        "    return x\n",
        "  else:\n",
        "    return y"
      ],
      "metadata": {
        "id": "OEKwzYJyfDlB"
      },
      "execution_count": null,
      "outputs": []
    },
    {
      "cell_type": "code",
      "source": [
        "great=findGreat(x,y)"
      ],
      "metadata": {
        "id": "_7KqAVJYfmkD"
      },
      "execution_count": null,
      "outputs": []
    },
    {
      "cell_type": "code",
      "source": [
        "print(great)"
      ],
      "metadata": {
        "id": "_u3jRfMqf0fg"
      },
      "execution_count": null,
      "outputs": []
    },
    {
      "cell_type": "code",
      "source": [
        "def where(city):\n",
        "  print(\"i am from \", city)"
      ],
      "metadata": {
        "id": "OcnpIMs4f1cd"
      },
      "execution_count": null,
      "outputs": []
    },
    {
      "cell_type": "code",
      "source": [
        "where(\"Ankara\")"
      ],
      "metadata": {
        "colab": {
          "base_uri": "https://localhost:8080/"
        },
        "id": "HRlhFuzBf6W2",
        "outputId": "7b2b6efd-20dc-4c4d-95bf-7e35c24a3c9c"
      },
      "execution_count": null,
      "outputs": [
        {
          "output_type": "stream",
          "name": "stdout",
          "text": [
            "i am from  Ankara\n"
          ]
        }
      ]
    },
    {
      "cell_type": "code",
      "source": [
        "def passing(midterm, final):\n",
        "  meanMidterm=midterm*0.4\n",
        "  meanFinal= final*0.6\n",
        "  meanGeneral= meanMidterm+meanFinal\n",
        "  if meanGeneral>45 and meanGeneral<60:\n",
        "    print(\"Your meanGeneral:\", meanGeneral)\n",
        "    print(\"You pass but you have to work hard\")\n",
        "  elif meanGeneral>60:\n",
        "    print(\"Your meanGeneral:\", meanGeneral)\n",
        "    print(\"You pass the lesson\")\n",
        "  else: \n",
        "    print(\"You dont pass!\")\n",
        "    print(\"Your meanGeneral:\", meanGeneral)"
      ],
      "metadata": {
        "id": "skFgYV2Tf9CF"
      },
      "execution_count": null,
      "outputs": []
    },
    {
      "cell_type": "code",
      "source": [
        "midterm= int(input(\"write midterm exam grade:\"))\n",
        "final = int(input(\"write final exam grade:\"))"
      ],
      "metadata": {
        "colab": {
          "base_uri": "https://localhost:8080/"
        },
        "id": "micnWu3MgE4c",
        "outputId": "44de0e60-e7db-49c7-8555-b8cce25faff0"
      },
      "execution_count": null,
      "outputs": [
        {
          "name": "stdout",
          "output_type": "stream",
          "text": [
            "write midterm exam grade:98\n",
            "write final exam grade:86\n"
          ]
        }
      ]
    },
    {
      "cell_type": "code",
      "source": [
        "passing(midterm, final)"
      ],
      "metadata": {
        "colab": {
          "base_uri": "https://localhost:8080/"
        },
        "id": "lzigmW3NgGVE",
        "outputId": "7917542e-6d86-426d-f41a-6bc3b5771d81"
      },
      "execution_count": null,
      "outputs": [
        {
          "output_type": "stream",
          "name": "stdout",
          "text": [
            "Your meanGeneral: 90.80000000000001\n",
            "You pass the lesson\n"
          ]
        }
      ]
    },
    {
      "cell_type": "code",
      "source": [
        "def calculationFactorial():\n",
        "  number=int(input(\"Write a number:\"))\n",
        "  factorial =1\n",
        "\n",
        "  if number>=0:\n",
        "    for i in range(1,number+1):\n",
        "      factorial= factorial*i\n",
        "    print(\"factorial :\", factorial)\n",
        "  else:\n",
        "    print(\"Dont write nagative number\")"
      ],
      "metadata": {
        "id": "6FgB2PXRgJ9j"
      },
      "execution_count": null,
      "outputs": []
    },
    {
      "cell_type": "code",
      "source": [
        "calculationFactorial()"
      ],
      "metadata": {
        "colab": {
          "base_uri": "https://localhost:8080/"
        },
        "id": "npMqZEN3gMsA",
        "outputId": "cb9c0762-7a25-4dc9-c859-5c32d1707897"
      },
      "execution_count": null,
      "outputs": [
        {
          "output_type": "stream",
          "name": "stdout",
          "text": [
            "Write a number:21\n",
            "factorial : 51090942171709440000\n"
          ]
        }
      ]
    },
    {
      "cell_type": "code",
      "source": [
        "def strToInt(x):\n",
        "  if type(x)==str:\n",
        "    print(\"variable type is string\")\n",
        "    y=int(x)\n",
        "    return y"
      ],
      "metadata": {
        "id": "uyHj_wv2gSBt"
      },
      "execution_count": null,
      "outputs": []
    },
    {
      "cell_type": "code",
      "source": [
        "var=input(\"write a number:\")"
      ],
      "metadata": {
        "colab": {
          "base_uri": "https://localhost:8080/"
        },
        "id": "cO9HMr1mgWwr",
        "outputId": "6ad7327c-c18d-4256-ad30-06550b9480ba"
      },
      "execution_count": null,
      "outputs": [
        {
          "name": "stdout",
          "output_type": "stream",
          "text": [
            "write a number:21\n"
          ]
        }
      ]
    },
    {
      "cell_type": "code",
      "source": [
        "strToInt(var)"
      ],
      "metadata": {
        "colab": {
          "base_uri": "https://localhost:8080/"
        },
        "id": "RC-pw_OlgYvm",
        "outputId": "a9e90394-7ae4-4a58-9641-fb57f44c0683"
      },
      "execution_count": null,
      "outputs": [
        {
          "output_type": "stream",
          "name": "stdout",
          "text": [
            "variable type is string\n"
          ]
        },
        {
          "output_type": "execute_result",
          "data": {
            "text/plain": [
              "21"
            ]
          },
          "metadata": {},
          "execution_count": 140
        }
      ]
    },
    {
      "cell_type": "code",
      "source": [
        "var1=int(input(\"Write a number:\"))"
      ],
      "metadata": {
        "colab": {
          "base_uri": "https://localhost:8080/"
        },
        "id": "1WYeY2cxgamY",
        "outputId": "cea0ca44-c3b9-4a88-8f0c-57eab5b7891e"
      },
      "execution_count": null,
      "outputs": [
        {
          "name": "stdout",
          "output_type": "stream",
          "text": [
            "Write a number:42\n"
          ]
        }
      ]
    },
    {
      "cell_type": "code",
      "source": [
        "type(var1)"
      ],
      "metadata": {
        "colab": {
          "base_uri": "https://localhost:8080/"
        },
        "id": "DJg5uiTXgcsI",
        "outputId": "7e2d210f-f0cf-4c60-b063-4698138bc2e2"
      },
      "execution_count": null,
      "outputs": [
        {
          "output_type": "execute_result",
          "data": {
            "text/plain": [
              "int"
            ]
          },
          "metadata": {},
          "execution_count": 142
        }
      ]
    },
    {
      "cell_type": "code",
      "source": [
        "result=strToInt(var)"
      ],
      "metadata": {
        "colab": {
          "base_uri": "https://localhost:8080/"
        },
        "id": "iIq2PdwqgfEy",
        "outputId": "cf837ab4-d180-477a-c7af-c64a92392d3c"
      },
      "execution_count": null,
      "outputs": [
        {
          "output_type": "stream",
          "name": "stdout",
          "text": [
            "variable type is string\n"
          ]
        }
      ]
    },
    {
      "cell_type": "code",
      "source": [
        "type(result)"
      ],
      "metadata": {
        "colab": {
          "base_uri": "https://localhost:8080/"
        },
        "id": "hOs3yXF1gimS",
        "outputId": "4a49fe39-27dc-4c78-f7c0-983dab40549b"
      },
      "execution_count": null,
      "outputs": [
        {
          "output_type": "execute_result",
          "data": {
            "text/plain": [
              "int"
            ]
          },
          "metadata": {},
          "execution_count": 148
        }
      ]
    },
    {
      "cell_type": "code",
      "source": [
        "result"
      ],
      "metadata": {
        "colab": {
          "base_uri": "https://localhost:8080/"
        },
        "id": "A47swqiMgkGq",
        "outputId": "e422949b-9470-4c4b-bd37-d08e5bde8a25"
      },
      "execution_count": null,
      "outputs": [
        {
          "output_type": "execute_result",
          "data": {
            "text/plain": [
              "21"
            ]
          },
          "metadata": {},
          "execution_count": 149
        }
      ]
    },
    {
      "cell_type": "code",
      "source": [],
      "metadata": {
        "id": "VdMo2AiSgrwQ"
      },
      "execution_count": null,
      "outputs": []
    }
  ]
}